{
 "cells": [
  {
   "cell_type": "markdown",
   "id": "0683a6eb",
   "metadata": {},
   "source": [
    "<h1>A Keras Deep Learning Project</h1>\n",
    "<h3>By Maksud Gurbanli and Aliya Orujova</h3>"
   ]
  },
  {
   "cell_type": "code",
   "execution_count": null,
   "id": "7200ee98",
   "metadata": {},
   "outputs": [],
   "source": [
    "from PIL import Image\n",
    "import os\n",
    "from keras.utils import to_categorical\n",
    "from keras.models import Sequential\n",
    "from keras.layers import Conv2D, MaxPooling2D, Flatten, Dense, Dropout, Input\n",
    "from keras.optimizers import Adam\n",
    "from keras.preprocessing.image import ImageDataGenerator\n",
    "\n",
    "results_folder = '../results/'\n",
    "train_folder = '../results/train/'\n",
    "test_folder = '../results/test/'\n",
    "validation_folder = '../results/val/'"
   ]
  },
  {
   "cell_type": "markdown",
   "id": "f003c1e3",
   "metadata": {},
   "source": [
    "This particular model was inspired by Keras' suggested models for working with the MNIST database."
   ]
  },
  {
   "cell_type": "code",
   "execution_count": null,
   "id": "48d9ab30",
   "metadata": {},
   "outputs": [],
   "source": [
    "num_classes = 64\n",
    "\n",
    "input_shape = (200, 200, 1)\n",
    "\n",
    "model = Sequential()\n",
    "\n",
    "layers = [\n",
    "Conv2D(32, kernel_size=(3, 3), activation=\"relu\"),\n",
    "MaxPooling2D(pool_size=(2, 2)),\n",
    "Conv2D(64, kernel_size=(3, 3), activation=\"relu\"),\n",
    "MaxPooling2D(pool_size=(2, 2)),\n",
    "Conv2D(64, kernel_size=(3, 3), activation=\"relu\"),\n",
    "MaxPooling2D(pool_size=(2, 2)),\n",
    "Flatten(),\n",
    "Dropout(0.5),\n",
    "Dense(num_classes, activation=\"softmax\")\n",
    "]\n",
    "\n",
    "for layer in layers:\n",
    "    model.add(layer)\n",
    "\n",
    "model.compile(loss=\"categorical_crossentropy\", optimizer=Adam(), metrics=[\"accuracy\"])"
   ]
  },
  {
   "cell_type": "code",
   "execution_count": null,
   "id": "e6c7e6ae",
   "metadata": {},
   "outputs": [],
   "source": [
    "train_datagen = ImageDataGenerator(rescale=1./255, shear_range=0.2, zoom_range=0.2)\n",
    "val_datagen = ImageDataGenerator(rescale=1./255)\n",
    "\n",
    "train_generator = train_datagen.flow_from_directory(train_folder, target_size=(200, 200), batch_size=500, class_mode='categorical')\n",
    "validation_generator = val_datagen.flow_from_directory(validation_folder, target_size=(200, 200), batch_size=500, class_mode='categorical')"
   ]
  },
  {
   "cell_type": "markdown",
   "id": "1a2f43d0",
   "metadata": {},
   "source": [
    "<small>Note: Training is a process that is **not** designed to be performed on home computers. More epochs would be an option on a specialized high-performance computer, leading to a higher accuracy.</small>"
   ]
  },
  {
   "cell_type": "code",
   "execution_count": 7,
   "id": "c4b94094",
   "metadata": {},
   "outputs": [
    {
     "name": "stdout",
     "output_type": "stream",
     "text": [
      "Epoch 1/10\n",
      "383/383 [==============================] - 5152s 13s/step - loss: 2.1699 - accuracy: 0.4964 - val_loss: 1.0805 - val_accuracy: 0.7420\n",
      "Epoch 2/10\n",
      "383/383 [==============================] - 3761s 10s/step - loss: 1.2093 - accuracy: 0.6895 - val_loss: 0.7740 - val_accuracy: 0.7600\n",
      "Epoch 3/10\n",
      "383/383 [==============================] - 3774s 10s/step - loss: 0.9866 - accuracy: 0.7360 - val_loss: 0.6621 - val_accuracy: 0.8340\n",
      "Epoch 4/10\n",
      "383/383 [==============================] - 3767s 10s/step - loss: 0.8653 - accuracy: 0.7611 - val_loss: 0.5231 - val_accuracy: 0.8480\n",
      "Epoch 5/10\n",
      "383/383 [==============================] - 3766s 10s/step - loss: 0.7918 - accuracy: 0.7761 - val_loss: 0.5319 - val_accuracy: 0.8560\n",
      "Epoch 6/10\n",
      "383/383 [==============================] - 3759s 10s/step - loss: 0.7385 - accuracy: 0.7891 - val_loss: 0.5019 - val_accuracy: 0.8580\n",
      "Epoch 7/10\n",
      "383/383 [==============================] - 3754s 10s/step - loss: 0.6974 - accuracy: 0.7985 - val_loss: 0.5083 - val_accuracy: 0.8480\n",
      "Epoch 8/10\n",
      "383/383 [==============================] - 4275s 11s/step - loss: 0.6595 - accuracy: 0.8069 - val_loss: 0.4823 - val_accuracy: 0.8520\n",
      "Epoch 9/10\n",
      "383/383 [==============================] - 4865s 13s/step - loss: 0.6328 - accuracy: 0.8120 - val_loss: 0.4732 - val_accuracy: 0.8700\n",
      "Epoch 10/10\n",
      "383/383 [==============================] - 4858s 13s/step - loss: 0.6053 - accuracy: 0.8191 - val_loss: 0.5061 - val_accuracy: 0.8460\n"
     ]
    },
    {
     "data": {
      "text/plain": [
       "<keras.callbacks.History at 0x15a09986d00>"
      ]
     },
     "execution_count": 7,
     "metadata": {},
     "output_type": "execute_result"
    }
   ],
   "source": [
    "model.fit(train_generator, steps_per_epoch=383, epochs=10, validation_data=validation_generator, validation_steps=1)"
   ]
  },
  {
   "cell_type": "markdown",
   "id": "bd0a293b",
   "metadata": {},
   "source": [
    "<h2> Other </h2>"
   ]
  },
  {
   "cell_type": "markdown",
   "id": "ecea4aa1",
   "metadata": {},
   "source": [
    "Save the trained model to access it in the future."
   ]
  },
  {
   "cell_type": "code",
   "execution_count": 8,
   "id": "89e87e8a",
   "metadata": {},
   "outputs": [],
   "source": [
    "model.save('model.h5')"
   ]
  },
  {
   "cell_type": "markdown",
   "id": "036beb2f",
   "metadata": {},
   "source": [
    "Test the model using the built-in *evaluate* function."
   ]
  },
  {
   "cell_type": "code",
   "execution_count": 9,
   "id": "3760079a",
   "metadata": {},
   "outputs": [
    {
     "name": "stdout",
     "output_type": "stream",
     "text": [
      "Found 41088 images belonging to 64 classes.\n",
      "5/5 [==============================] - 2s 434ms/step - loss: 0.3604 - accuracy: 0.9030\n",
      "Test loss: 0.3603810667991638\n",
      "Test accuracy: 0.903030276298523\n"
     ]
    }
   ],
   "source": [
    "test_datagen = ImageDataGenerator(rescale=1./255)\n",
    "test_generator = test_datagen.flow_from_directory(test_folder, target_size=(200, 200), batch_size=33, class_mode='categorical')\n",
    "\n",
    "score = model.evaluate(test_generator, steps=5)\n",
    "print('Test loss:', score[0])\n",
    "print('Test accuracy:', score[1])"
   ]
  },
  {
   "cell_type": "markdown",
   "id": "806c6fdc",
   "metadata": {},
   "source": [
    "When needed, the model can be loaded in one simple code block."
   ]
  },
  {
   "cell_type": "code",
   "execution_count": null,
   "id": "dee8a2f6",
   "metadata": {},
   "outputs": [],
   "source": [
    "from keras.models import load_model\n",
    "model = load_model('model.h5')"
   ]
  }
 ],
 "metadata": {
  "kernelspec": {
   "display_name": "Python 3.8.6 64-bit",
   "language": "python",
   "name": "python3"
  },
  "language_info": {
   "codemirror_mode": {
    "name": "ipython",
    "version": 3
   },
   "file_extension": ".py",
   "mimetype": "text/x-python",
   "name": "python",
   "nbconvert_exporter": "python",
   "pygments_lexer": "ipython3",
   "version": "3.8.6"
  },
  "vscode": {
   "interpreter": {
    "hash": "4958a4d708202592358e63aad7fe75dd7d369992d56d971d9aa6cd31d1b68dd5"
   }
  }
 },
 "nbformat": 4,
 "nbformat_minor": 5
}
