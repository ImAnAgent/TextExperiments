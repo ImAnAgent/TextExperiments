{
 "cells": [
  {
   "cell_type": "markdown",
   "id": "0683a6eb",
   "metadata": {},
   "source": [
    "<h1>A Keras Deep Learning Project</h1>\n",
    "<h3>By Maksud Gurbanli and Aliya Orujova</h3>"
   ]
  },
  {
   "cell_type": "code",
   "execution_count": null,
   "id": "7200ee98",
   "metadata": {},
   "outputs": [],
   "source": [
    "from PIL import Image\n",
    "import os\n",
    "from keras.utils import to_categorical\n",
    "from keras.models import Sequential\n",
    "from keras.layers import Conv2D, MaxPooling2D, Flatten, Dense, Dropout, Input\n",
    "from keras.optimizers import Adam\n",
    "from keras.preprocessing.image import ImageDataGenerator\n",
    "\n",
    "results_folder = '../results/'\n",
    "train_folder = '../results/train/'\n",
    "test_folder = '../results/test/'\n",
    "validation_folder = '../results/val/'"
   ]
  },
  {
   "cell_type": "markdown",
   "id": "f003c1e3",
   "metadata": {},
   "source": [
    "This particular model was inspired by Keras' suggested models for working with the MNIST database."
   ]
  },
  {
   "cell_type": "code",
   "execution_count": null,
   "id": "48d9ab30",
   "metadata": {},
   "outputs": [],
   "source": [
    "num_classes = 64\n",
    "\n",
    "input_shape = (200, 200, 1)\n",
    "\n",
    "model = Sequential()\n",
    "\n",
    "layers = [\n",
    "Conv2D(32, kernel_size=(3, 3), activation=\"relu\"),\n",
    "MaxPooling2D(pool_size=(2, 2)),\n",
    "Conv2D(64, kernel_size=(3, 3), activation=\"relu\"),\n",
    "MaxPooling2D(pool_size=(2, 2)),\n",
    "Conv2D(64, kernel_size=(3, 3), activation=\"relu\"),\n",
    "MaxPooling2D(pool_size=(2, 2)),\n",
    "Flatten(),\n",
    "Dropout(0.5),\n",
    "Dense(num_classes, activation=\"softmax\")\n",
    "]\n",
    "\n",
    "for layer in layers:\n",
    "    model.add(layer)\n",
    "\n",
    "model.compile(loss=\"categorical_crossentropy\", optimizer=Adam(), metrics=[\"accuracy\"])"
   ]
  },
  {
   "cell_type": "code",
   "execution_count": null,
   "id": "e6c7e6ae",
   "metadata": {},
   "outputs": [],
   "source": [
    "train_datagen = ImageDataGenerator(rescale=1./255, shear_range=0.2, zoom_range=0.2)\n",
    "val_datagen = ImageDataGenerator(rescale=1./255)\n",
    "\n",
    "train_generator = train_datagen.flow_from_directory(train_folder, target_size=(200, 200), batch_size=500, class_mode='categorical')\n",
    "validation_generator = val_datagen.flow_from_directory(validation_folder, target_size=(200, 200), batch_size=500, class_mode='categorical')"
   ]
  },
  {
   "cell_type": "markdown",
   "id": "1a2f43d0",
   "metadata": {},
   "source": [
    "<small>Note: Training is a process that is **not** designed to be performed on home computers. More epochs would be an option on a specialized high-performance computer, leading to a higher accuracy.</small>"
   ]
  },
  {
   "cell_type": "code",
   "execution_count": null,
   "id": "c4b94094",
   "metadata": {},
   "outputs": [],
   "source": [
    "model.fit(train_generator, steps_per_epoch=383, epochs=10, validation_data=validation_generator, validation_steps=1)"
   ]
  },
  {
   "cell_type": "markdown",
   "id": "bd0a293b",
   "metadata": {},
   "source": [
    "<h2> Other </h2>"
   ]
  },
  {
   "cell_type": "markdown",
   "id": "ecea4aa1",
   "metadata": {},
   "source": [
    "Save the trained model to access it in the future."
   ]
  },
  {
   "cell_type": "code",
   "execution_count": null,
   "id": "89e87e8a",
   "metadata": {},
   "outputs": [],
   "source": [
    "model.save('model.h5')"
   ]
  },
  {
   "cell_type": "markdown",
   "id": "036beb2f",
   "metadata": {},
   "source": [
    "Test the model using the built-in *evaluate* function."
   ]
  },
  {
   "cell_type": "code",
   "execution_count": null,
   "id": "3760079a",
   "metadata": {},
   "outputs": [],
   "source": [
    "test_datagen = ImageDataGenerator(rescale=1./255)\n",
    "test_generator = test_datagen.flow_from_directory(test_folder, target_size=(200, 200), batch_size=33, class_mode='categorical')\n",
    "\n",
    "score = model.evaluate(test_generator, steps=5)\n",
    "print('Test loss:', score[0])\n",
    "print('Test accuracy:', score[1])"
   ]
  },
  {
   "cell_type": "markdown",
   "id": "806c6fdc",
   "metadata": {},
   "source": [
    "When needed, the model can be loaded in one simple code block."
   ]
  },
  {
   "cell_type": "code",
   "execution_count": 7,
   "id": "dee8a2f6",
   "metadata": {},
   "outputs": [
    {
     "ename": "OSError",
     "evalue": "No file or directory found at model",
     "output_type": "error",
     "traceback": [
      "\u001b[1;31m---------------------------------------------------------------------------\u001b[0m",
      "\u001b[1;31mOSError\u001b[0m                                   Traceback (most recent call last)",
      "\u001b[1;32mc:\\Users\\gurba\\OneDrive\\Documents\\AzeriAlphabetOCR\\main\\deeplearning.ipynb Cell 14\u001b[0m in \u001b[0;36m<cell line: 4>\u001b[1;34m()\u001b[0m\n\u001b[0;32m      <a href='vscode-notebook-cell:/c%3A/Users/gurba/OneDrive/Documents/AzeriAlphabetOCR/main/deeplearning.ipynb#X16sZmlsZQ%3D%3D?line=0'>1</a>\u001b[0m \u001b[39m# load model.h5 but define the channel dimension of the inputs\u001b[39;00m\n\u001b[0;32m      <a href='vscode-notebook-cell:/c%3A/Users/gurba/OneDrive/Documents/AzeriAlphabetOCR/main/deeplearning.ipynb#X16sZmlsZQ%3D%3D?line=2'>3</a>\u001b[0m \u001b[39mfrom\u001b[39;00m \u001b[39mkeras\u001b[39;00m\u001b[39m.\u001b[39;00m\u001b[39mmodels\u001b[39;00m \u001b[39mimport\u001b[39;00m load_model\n\u001b[1;32m----> <a href='vscode-notebook-cell:/c%3A/Users/gurba/OneDrive/Documents/AzeriAlphabetOCR/main/deeplearning.ipynb#X16sZmlsZQ%3D%3D?line=3'>4</a>\u001b[0m model \u001b[39m=\u001b[39m load_model(\u001b[39m'\u001b[39;49m\u001b[39mmodel\u001b[39;49m\u001b[39m'\u001b[39;49m)\n",
      "File \u001b[1;32mc:\\Users\\gurba\\AppData\\Local\\Programs\\Python\\Python38\\lib\\site-packages\\keras\\utils\\traceback_utils.py:67\u001b[0m, in \u001b[0;36mfilter_traceback.<locals>.error_handler\u001b[1;34m(*args, **kwargs)\u001b[0m\n\u001b[0;32m     65\u001b[0m \u001b[39mexcept\u001b[39;00m \u001b[39mException\u001b[39;00m \u001b[39mas\u001b[39;00m e:  \u001b[39m# pylint: disable=broad-except\u001b[39;00m\n\u001b[0;32m     66\u001b[0m   filtered_tb \u001b[39m=\u001b[39m _process_traceback_frames(e\u001b[39m.\u001b[39m__traceback__)\n\u001b[1;32m---> 67\u001b[0m   \u001b[39mraise\u001b[39;00m e\u001b[39m.\u001b[39mwith_traceback(filtered_tb) \u001b[39mfrom\u001b[39;00m \u001b[39mNone\u001b[39m\n\u001b[0;32m     68\u001b[0m \u001b[39mfinally\u001b[39;00m:\n\u001b[0;32m     69\u001b[0m   \u001b[39mdel\u001b[39;00m filtered_tb\n",
      "File \u001b[1;32mc:\\Users\\gurba\\AppData\\Local\\Programs\\Python\\Python38\\lib\\site-packages\\keras\\saving\\save.py:206\u001b[0m, in \u001b[0;36mload_model\u001b[1;34m(filepath, custom_objects, compile, options)\u001b[0m\n\u001b[0;32m    204\u001b[0m \u001b[39mif\u001b[39;00m \u001b[39misinstance\u001b[39m(filepath_str, \u001b[39mstr\u001b[39m):\n\u001b[0;32m    205\u001b[0m   \u001b[39mif\u001b[39;00m \u001b[39mnot\u001b[39;00m tf\u001b[39m.\u001b[39mio\u001b[39m.\u001b[39mgfile\u001b[39m.\u001b[39mexists(filepath_str):\n\u001b[1;32m--> 206\u001b[0m     \u001b[39mraise\u001b[39;00m \u001b[39mIOError\u001b[39;00m(\u001b[39mf\u001b[39m\u001b[39m'\u001b[39m\u001b[39mNo file or directory found at \u001b[39m\u001b[39m{\u001b[39;00mfilepath_str\u001b[39m}\u001b[39;00m\u001b[39m'\u001b[39m)\n\u001b[0;32m    208\u001b[0m   \u001b[39mif\u001b[39;00m tf\u001b[39m.\u001b[39mio\u001b[39m.\u001b[39mgfile\u001b[39m.\u001b[39misdir(filepath_str):\n\u001b[0;32m    209\u001b[0m     \u001b[39mreturn\u001b[39;00m saved_model_load\u001b[39m.\u001b[39mload(filepath_str, \u001b[39mcompile\u001b[39m, options)\n",
      "\u001b[1;31mOSError\u001b[0m: No file or directory found at model"
     ]
    }
   ],
   "source": [
    "# load model.h5 but define the channel dimension of the inputs\n",
    "\n",
    "from keras.models import load_model\n",
    "model = load_model('model.h5')"
   ]
  }
 ],
 "metadata": {
  "kernelspec": {
   "display_name": "Python 3.8.6 64-bit",
   "language": "python",
   "name": "python3"
  },
  "language_info": {
   "codemirror_mode": {
    "name": "ipython",
    "version": 3
   },
   "file_extension": ".py",
   "mimetype": "text/x-python",
   "name": "python",
   "nbconvert_exporter": "python",
   "pygments_lexer": "ipython3",
   "version": "3.8.6"
  },
  "vscode": {
   "interpreter": {
    "hash": "4958a4d708202592358e63aad7fe75dd7d369992d56d971d9aa6cd31d1b68dd5"
   }
  }
 },
 "nbformat": 4,
 "nbformat_minor": 5
}
