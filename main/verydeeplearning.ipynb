{
 "cells": [
  {
   "cell_type": "code",
   "execution_count": null,
   "id": "7200ee98",
   "metadata": {},
   "outputs": [],
   "source": [
    "from PIL import Image\n",
    "import os\n",
    "from keras.utils import to_categorical\n",
    "from keras.models import Sequential\n",
    "from keras.layers import Conv2D, MaxPooling2D, Flatten, Dense, Dropout, Input\n",
    "from keras.optimizers import Adam\n",
    "from keras.preprocessing.image import ImageDataGenerator\n",
    "\n",
    "# set results_folder to the folder in the same directory with the name \"results\"\n",
    "results_folder = '../results/'\n",
    "train_folder = '../results/train/'\n",
    "test_folder = '../results/test/'\n",
    "validation_folder = '../results/val/'"
   ]
  },
  {
   "cell_type": "code",
   "execution_count": null,
   "id": "48d9ab30",
   "metadata": {},
   "outputs": [],
   "source": [
    "num_classes = 64\n",
    "\n",
    "input_shape = (200, 200, 1)\n",
    "\n",
    "model = Sequential()\n",
    "\n",
    "layers = [\n",
    "Conv2D(32, kernel_size=(3, 3), activation=\"relu\"),\n",
    "MaxPooling2D(pool_size=(2, 2)),\n",
    "Conv2D(64, kernel_size=(3, 3), activation=\"relu\"),\n",
    "MaxPooling2D(pool_size=(2, 2)),\n",
    "Flatten(),\n",
    "Dropout(0.5),\n",
    "Dense(num_classes, activation=\"softmax\")\n",
    "]\n",
    "\n",
    "for layer in layers:\n",
    "    model.add(layer)\n",
    "\n",
    "model.compile(loss=\"categorical_crossentropy\", optimizer=Adam(), metrics=[\"accuracy\"])"
   ]
  },
  {
   "cell_type": "code",
   "execution_count": null,
   "id": "e6c7e6ae",
   "metadata": {},
   "outputs": [],
   "source": [
    "train_datagen = ImageDataGenerator(rescale=1./255, shear_range=0.2, zoom_range=0.2)\n",
    "test_datagen = ImageDataGenerator(rescale=1./255)\n",
    "val_datagen = ImageDataGenerator(rescale=1./255)\n",
    "\n",
    "train_generator = train_datagen.flow_from_directory(train_folder, target_size=(200, 200), batch_size=4000, class_mode='categorical')\n",
    "validation_generator = val_datagen.flow_from_directory(validation_folder, target_size=(200, 200), batch_size=41056, class_mode='categorical')\n",
    "test_generator = test_datagen.flow_from_directory(test_folder, target_size=(200, 200), batch_size=4000, class_mode='categorical')"
   ]
  },
  {
   "cell_type": "code",
   "execution_count": null,
   "id": "c4b94094",
   "metadata": {},
   "outputs": [],
   "source": [
    "# Train the model\n",
    "model.fit(train_generator, steps_per_epoch=47, epochs=30, validation_data=validation_generator, validation_steps=1)"
   ]
  },
  {
   "cell_type": "code",
   "execution_count": null,
   "id": "89e87e8a",
   "metadata": {},
   "outputs": [],
   "source": [
    "model.save('first_successful_model.h5')"
   ]
  },
  {
   "cell_type": "code",
   "execution_count": null,
   "id": "3760079a",
   "metadata": {},
   "outputs": [],
   "source": [
    "# Evaluate the model\n",
    "score = model.evaluate(test_generator, steps=1)\n",
    "print('Test loss:', score[0])\n",
    "print('Test accuracy:', score[1])"
   ]
  },
  {
   "cell_type": "code",
   "execution_count": null,
   "id": "dee8a2f6",
   "metadata": {},
   "outputs": [],
   "source": [
    "# Load the model from first_successful_model.h5\n",
    "\n",
    "from keras.models import load_model\n",
    "model = load_model('first_successful_model.h5')"
   ]
  }
 ],
 "metadata": {
  "kernelspec": {
   "display_name": "Python 3.8.6 64-bit",
   "language": "python",
   "name": "python3"
  },
  "language_info": {
   "codemirror_mode": {
    "name": "ipython",
    "version": 3
   },
   "file_extension": ".py",
   "mimetype": "text/x-python",
   "name": "python",
   "nbconvert_exporter": "python",
   "pygments_lexer": "ipython3",
   "version": "3.8.6"
  },
  "vscode": {
   "interpreter": {
    "hash": "4958a4d708202592358e63aad7fe75dd7d369992d56d971d9aa6cd31d1b68dd5"
   }
  }
 },
 "nbformat": 4,
 "nbformat_minor": 5
}
