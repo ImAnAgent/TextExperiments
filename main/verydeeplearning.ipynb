{
 "cells": [
  {
   "cell_type": "code",
   "execution_count": 2,
   "id": "7200ee98",
   "metadata": {},
   "outputs": [],
   "source": [
    "from PIL import Image\n",
    "import os\n",
    "from keras.utils import to_categorical\n",
    "from keras.models import Sequential\n",
    "from keras.layers import Conv2D, MaxPooling2D, Flatten, Dense, Dropout, Input\n",
    "from keras.optimizers import Adam\n",
    "from keras.preprocessing.image import ImageDataGenerator\n",
    "\n",
    "# set results_folder to the folder in the same directory with the name \"results\"\n",
    "results_folder = '../smallresults/'\n",
    "train_folder = '../smallresults/train/'\n",
    "test_folder = '../smallresults/test/'\n",
    "validation_folder = '../smallresults/val/'"
   ]
  },
  {
   "cell_type": "code",
   "execution_count": 23,
   "id": "48d9ab30",
   "metadata": {},
   "outputs": [],
   "source": [
    "num_classes = 3\n",
    "\n",
    "input_shape = (200, 200, 1)\n",
    "\n",
    "model = Sequential()\n",
    "\n",
    "layers = [\n",
    "Conv2D(32, kernel_size=(3, 3), activation=\"relu\"),\n",
    "MaxPooling2D(pool_size=(2, 2)),\n",
    "Conv2D(64, kernel_size=(3, 3), activation=\"relu\"),\n",
    "MaxPooling2D(pool_size=(2, 2)),\n",
    "Flatten(),\n",
    "Dropout(0.5),\n",
    "Dense(num_classes, activation=\"softmax\")\n",
    "]\n",
    "\n",
    "for layer in layers:\n",
    "    model.add(layer)\n",
    "\n",
    "model.compile(loss=\"categorical_crossentropy\", optimizer=Adam(), metrics=[\"accuracy\"])"
   ]
  },
  {
   "cell_type": "code",
   "execution_count": 24,
   "id": "e6c7e6ae",
   "metadata": {},
   "outputs": [
    {
     "name": "stdout",
     "output_type": "stream",
     "text": [
      "Found 1833 images belonging to 3 classes.\n",
      "Found 231 images belonging to 3 classes.\n",
      "Found 228 images belonging to 3 classes.\n"
     ]
    }
   ],
   "source": [
    "train_datagen = ImageDataGenerator(rescale=1./255, shear_range=0.2, zoom_range=0.2)\n",
    "test_datagen = ImageDataGenerator(rescale=1./255)\n",
    "val_datagen = ImageDataGenerator(rescale=1./255)\n",
    "\n",
    "train_generator = train_datagen.flow_from_directory(train_folder, target_size=(200, 200), batch_size=47, class_mode='categorical')\n",
    "test_generator = test_datagen.flow_from_directory(test_folder, target_size=(200, 200), batch_size=33, class_mode='categorical')\n",
    "validation_generator = val_datagen.flow_from_directory(validation_folder, target_size=(200, 200), batch_size=228, class_mode='categorical')"
   ]
  },
  {
   "cell_type": "code",
   "execution_count": 25,
   "id": "c4b94094",
   "metadata": {},
   "outputs": [
    {
     "name": "stdout",
     "output_type": "stream",
     "text": [
      "Epoch 1/50\n",
      "39/39 [==============================] - 58s 1s/step - loss: 1.3443 - accuracy: 0.4664 - val_loss: 0.8620 - val_accuracy: 0.5833\n",
      "Epoch 2/50\n",
      "39/39 [==============================] - 44s 1s/step - loss: 0.5652 - accuracy: 0.8167 - val_loss: 0.3560 - val_accuracy: 0.8860\n",
      "Epoch 3/50\n",
      "39/39 [==============================] - 42s 1s/step - loss: 0.2913 - accuracy: 0.9034 - val_loss: 0.1840 - val_accuracy: 0.9298\n",
      "Epoch 4/50\n",
      "39/39 [==============================] - 48s 1s/step - loss: 0.2045 - accuracy: 0.9373 - val_loss: 0.1556 - val_accuracy: 0.9474\n",
      "Epoch 5/50\n",
      "39/39 [==============================] - 50s 1s/step - loss: 0.1814 - accuracy: 0.9416 - val_loss: 0.1721 - val_accuracy: 0.9430\n",
      "Epoch 6/50\n",
      "39/39 [==============================] - 51s 1s/step - loss: 0.1780 - accuracy: 0.9384 - val_loss: 0.1184 - val_accuracy: 0.9649\n",
      "Epoch 7/50\n",
      "39/39 [==============================] - 44s 1s/step - loss: 0.1645 - accuracy: 0.9493 - val_loss: 0.1288 - val_accuracy: 0.9518\n",
      "Epoch 8/50\n",
      "39/39 [==============================] - 42s 1s/step - loss: 0.1375 - accuracy: 0.9591 - val_loss: 0.1272 - val_accuracy: 0.9518\n",
      "Epoch 9/50\n",
      "39/39 [==============================] - 48s 1s/step - loss: 0.1343 - accuracy: 0.9596 - val_loss: 0.1234 - val_accuracy: 0.9605\n",
      "Epoch 10/50\n",
      "39/39 [==============================] - 44s 1s/step - loss: 0.1442 - accuracy: 0.9509 - val_loss: 0.0955 - val_accuracy: 0.9649\n",
      "Epoch 11/50\n",
      "39/39 [==============================] - 42s 1s/step - loss: 0.1264 - accuracy: 0.9585 - val_loss: 0.0958 - val_accuracy: 0.9605\n",
      "Epoch 12/50\n",
      "39/39 [==============================] - 43s 1s/step - loss: 0.1179 - accuracy: 0.9613 - val_loss: 0.0779 - val_accuracy: 0.9693\n",
      "Epoch 13/50\n",
      "39/39 [==============================] - 41s 1s/step - loss: 0.1167 - accuracy: 0.9618 - val_loss: 0.0871 - val_accuracy: 0.9737\n",
      "Epoch 14/50\n",
      "39/39 [==============================] - 42s 1s/step - loss: 0.1063 - accuracy: 0.9700 - val_loss: 0.1146 - val_accuracy: 0.9781\n",
      "Epoch 15/50\n",
      "39/39 [==============================] - 44s 1s/step - loss: 0.1078 - accuracy: 0.9634 - val_loss: 0.1127 - val_accuracy: 0.9649\n",
      "Epoch 16/50\n",
      "39/39 [==============================] - 42s 1s/step - loss: 0.1059 - accuracy: 0.9651 - val_loss: 0.1111 - val_accuracy: 0.9649\n",
      "Epoch 17/50\n",
      "39/39 [==============================] - 39s 1s/step - loss: 0.0916 - accuracy: 0.9662 - val_loss: 0.1203 - val_accuracy: 0.9649\n",
      "Epoch 18/50\n",
      "39/39 [==============================] - 41s 1s/step - loss: 0.0925 - accuracy: 0.9749 - val_loss: 0.1097 - val_accuracy: 0.9649\n",
      "Epoch 19/50\n",
      "39/39 [==============================] - 41s 1s/step - loss: 0.0870 - accuracy: 0.9694 - val_loss: 0.0719 - val_accuracy: 0.9781\n",
      "Epoch 20/50\n",
      "39/39 [==============================] - 48s 1s/step - loss: 0.0914 - accuracy: 0.9667 - val_loss: 0.1088 - val_accuracy: 0.9649\n",
      "Epoch 21/50\n",
      "39/39 [==============================] - 44s 1s/step - loss: 0.0978 - accuracy: 0.9705 - val_loss: 0.0627 - val_accuracy: 0.9781\n",
      "Epoch 22/50\n",
      "39/39 [==============================] - 40s 1s/step - loss: 0.0873 - accuracy: 0.9673 - val_loss: 0.0921 - val_accuracy: 0.9693\n",
      "Epoch 23/50\n",
      "39/39 [==============================] - 46s 1s/step - loss: 0.0937 - accuracy: 0.9684 - val_loss: 0.0906 - val_accuracy: 0.9649\n",
      "Epoch 24/50\n",
      "39/39 [==============================] - 52s 1s/step - loss: 0.0868 - accuracy: 0.9733 - val_loss: 0.0528 - val_accuracy: 0.9825\n",
      "Epoch 25/50\n",
      "39/39 [==============================] - 48s 1s/step - loss: 0.0884 - accuracy: 0.9705 - val_loss: 0.0529 - val_accuracy: 0.9781\n",
      "Epoch 26/50\n",
      "39/39 [==============================] - 46s 1s/step - loss: 0.0786 - accuracy: 0.9776 - val_loss: 0.0455 - val_accuracy: 0.9868\n",
      "Epoch 27/50\n",
      "39/39 [==============================] - 45s 1s/step - loss: 0.0722 - accuracy: 0.9771 - val_loss: 0.0522 - val_accuracy: 0.9781\n",
      "Epoch 28/50\n",
      "39/39 [==============================] - 45s 1s/step - loss: 0.0698 - accuracy: 0.9793 - val_loss: 0.0616 - val_accuracy: 0.9868\n",
      "Epoch 29/50\n",
      "39/39 [==============================] - 45s 1s/step - loss: 0.0719 - accuracy: 0.9760 - val_loss: 0.0477 - val_accuracy: 0.9781\n",
      "Epoch 30/50\n",
      "39/39 [==============================] - 45s 1s/step - loss: 0.0732 - accuracy: 0.9771 - val_loss: 0.0804 - val_accuracy: 0.9781\n",
      "Epoch 31/50\n",
      "39/39 [==============================] - 47s 1s/step - loss: 0.0713 - accuracy: 0.9776 - val_loss: 0.0618 - val_accuracy: 0.9825\n",
      "Epoch 32/50\n",
      "39/39 [==============================] - 48s 1s/step - loss: 0.0583 - accuracy: 0.9836 - val_loss: 0.0566 - val_accuracy: 0.9781\n",
      "Epoch 33/50\n",
      "39/39 [==============================] - 46s 1s/step - loss: 0.0582 - accuracy: 0.9820 - val_loss: 0.0849 - val_accuracy: 0.9693\n",
      "Epoch 34/50\n",
      "39/39 [==============================] - 46s 1s/step - loss: 0.0635 - accuracy: 0.9760 - val_loss: 0.0583 - val_accuracy: 0.9781\n",
      "Epoch 35/50\n",
      "39/39 [==============================] - 46s 1s/step - loss: 0.0669 - accuracy: 0.9776 - val_loss: 0.1167 - val_accuracy: 0.9649\n",
      "Epoch 36/50\n",
      "39/39 [==============================] - 46s 1s/step - loss: 0.0805 - accuracy: 0.9755 - val_loss: 0.0759 - val_accuracy: 0.9781\n",
      "Epoch 37/50\n",
      "39/39 [==============================] - 49s 1s/step - loss: 0.0579 - accuracy: 0.9825 - val_loss: 0.1825 - val_accuracy: 0.9605\n",
      "Epoch 38/50\n",
      "39/39 [==============================] - 47s 1s/step - loss: 0.0687 - accuracy: 0.9787 - val_loss: 0.0688 - val_accuracy: 0.9737\n",
      "Epoch 39/50\n",
      "39/39 [==============================] - 45s 1s/step - loss: 0.0589 - accuracy: 0.9815 - val_loss: 0.0674 - val_accuracy: 0.9737\n",
      "Epoch 40/50\n",
      "39/39 [==============================] - 46s 1s/step - loss: 0.0537 - accuracy: 0.9825 - val_loss: 0.1464 - val_accuracy: 0.9693\n",
      "Epoch 41/50\n",
      "39/39 [==============================] - 47s 1s/step - loss: 0.0614 - accuracy: 0.9787 - val_loss: 0.0976 - val_accuracy: 0.9737\n",
      "Epoch 42/50\n",
      "39/39 [==============================] - 45s 1s/step - loss: 0.0572 - accuracy: 0.9809 - val_loss: 0.0709 - val_accuracy: 0.9781\n",
      "Epoch 43/50\n",
      "39/39 [==============================] - 46s 1s/step - loss: 0.0444 - accuracy: 0.9869 - val_loss: 0.1223 - val_accuracy: 0.9693\n",
      "Epoch 44/50\n",
      "39/39 [==============================] - 45s 1s/step - loss: 0.0546 - accuracy: 0.9809 - val_loss: 0.0733 - val_accuracy: 0.9781\n",
      "Epoch 45/50\n",
      "39/39 [==============================] - 47s 1s/step - loss: 0.0547 - accuracy: 0.9820 - val_loss: 0.1022 - val_accuracy: 0.9737\n",
      "Epoch 46/50\n",
      "39/39 [==============================] - 45s 1s/step - loss: 0.0474 - accuracy: 0.9869 - val_loss: 0.0926 - val_accuracy: 0.9737\n",
      "Epoch 47/50\n",
      "39/39 [==============================] - 45s 1s/step - loss: 0.0476 - accuracy: 0.9864 - val_loss: 0.1415 - val_accuracy: 0.9693\n",
      "Epoch 48/50\n",
      "39/39 [==============================] - 46s 1s/step - loss: 0.0531 - accuracy: 0.9858 - val_loss: 0.0692 - val_accuracy: 0.9737\n",
      "Epoch 49/50\n",
      "39/39 [==============================] - 45s 1s/step - loss: 0.0458 - accuracy: 0.9820 - val_loss: 0.0793 - val_accuracy: 0.9737\n",
      "Epoch 50/50\n",
      "39/39 [==============================] - 46s 1s/step - loss: 0.0388 - accuracy: 0.9875 - val_loss: 0.0724 - val_accuracy: 0.9781\n"
     ]
    },
    {
     "data": {
      "text/plain": [
       "<keras.callbacks.History at 0x1ab72b2cfa0>"
      ]
     },
     "execution_count": 25,
     "metadata": {},
     "output_type": "execute_result"
    }
   ],
   "source": [
    "# Train the model\n",
    "model.fit(train_generator, steps_per_epoch=39, epochs=50, validation_data=validation_generator, validation_steps=1)"
   ]
  },
  {
   "cell_type": "code",
   "execution_count": 27,
   "id": "89e87e8a",
   "metadata": {},
   "outputs": [],
   "source": [
    "model.save('first_successful_model.h5')"
   ]
  },
  {
   "cell_type": "code",
   "execution_count": 28,
   "id": "3760079a",
   "metadata": {},
   "outputs": [
    {
     "name": "stdout",
     "output_type": "stream",
     "text": [
      "1/1 [==============================] - 0s 216ms/step - loss: 0.0349 - accuracy: 1.0000\n",
      "Test loss: 0.03491225093603134\n",
      "Test accuracy: 1.0\n"
     ]
    }
   ],
   "source": [
    "# Evaluate the model\n",
    "score = model.evaluate(test_generator, steps=1)\n",
    "print('Test loss:', score[0])\n",
    "print('Test accuracy:', score[1])"
   ]
  },
  {
   "cell_type": "code",
   "execution_count": null,
   "id": "dee8a2f6",
   "metadata": {},
   "outputs": [],
   "source": [
    "# Load the model from first_successful_model.h5\n",
    "\n",
    "from keras.models import load_model\n",
    "model = load_model('first_successful_model.h5')"
   ]
  }
 ],
 "metadata": {
  "kernelspec": {
   "display_name": "Python 3.8.6 64-bit",
   "language": "python",
   "name": "python3"
  },
  "language_info": {
   "codemirror_mode": {
    "name": "ipython",
    "version": 3
   },
   "file_extension": ".py",
   "mimetype": "text/x-python",
   "name": "python",
   "nbconvert_exporter": "python",
   "pygments_lexer": "ipython3",
   "version": "3.8.6"
  },
  "vscode": {
   "interpreter": {
    "hash": "4958a4d708202592358e63aad7fe75dd7d369992d56d971d9aa6cd31d1b68dd5"
   }
  }
 },
 "nbformat": 4,
 "nbformat_minor": 5
}
