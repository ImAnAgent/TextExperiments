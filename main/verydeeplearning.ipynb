{
 "cells": [
  {
   "cell_type": "code",
   "execution_count": 11,
   "id": "7200ee98",
   "metadata": {},
   "outputs": [],
   "source": [
    "from PIL import Image\n",
    "import os\n",
    "from keras.utils import to_categorical\n",
    "from keras.models import Sequential\n",
    "from keras.layers import Conv2D, MaxPooling2D, Flatten, Dense, Dropout\n",
    "from keras.optimizers import Adam\n",
    "from keras.preprocessing.image import ImageDataGenerator\n",
    "\n",
    "# set results_folder to the folder in the same directory with the name \"results\"\n",
    "results_folder = '../results/'\n",
    "train_folder = '../results/train/'\n",
    "test_folder = '../results/test/'\n",
    "validation_folder = '../results/val/'"
   ]
  },
  {
   "cell_type": "code",
   "execution_count": 19,
   "id": "48d9ab30",
   "metadata": {},
   "outputs": [],
   "source": [
    "# Create a model\n",
    "model = Sequential()\n",
    "# Add a convolutional layer with 32 filters, each of size 3x3\n",
    "model.add(Conv2D(32, (3, 3), activation='relu', input_shape=(150, 150, 3)))\n",
    "# convolution layer\n",
    "model.add(Conv2D(32, (3, 3), activation='relu'))\n",
    "# max pooling layer\n",
    "model.add(MaxPooling2D(pool_size=(2, 2)))\n",
    "# dense layer\n",
    "model.add(Flatten())\n",
    "model.add(Dense(128, activation='relu'))\n",
    "# output layer\n",
    "model.add(Dense(64, activation='softmax'))"
   ]
  },
  {
   "cell_type": "code",
   "execution_count": 22,
   "id": "e6c7e6ae",
   "metadata": {},
   "outputs": [
    {
     "name": "stdout",
     "output_type": "stream",
     "text": [
      "Found 191584 images belonging to 64 classes.\n",
      "Found 41088 images belonging to 64 classes.\n",
      "Found 41056 images belonging to 64 classes.\n"
     ]
    }
   ],
   "source": [
    "# Compile the model\n",
    "model.compile(Adam(learning_rate=0.001), loss='categorical_crossentropy', metrics=['accuracy'])\n",
    "\n",
    "# Create a generator that will take the data and create batches of images\n",
    "train_datagen = ImageDataGenerator(rescale=1./255, rotation_range=40, width_shift_range=0.2, height_shift_range=0.2, shear_range=0.2, zoom_range=0.2)\n",
    "test_datagen = ImageDataGenerator(rescale=1./255)\n",
    "val_datagen = ImageDataGenerator(rescale=1./255)\n",
    "\n",
    "train_generator = train_datagen.flow_from_directory(train_folder, target_size=(150, 150), batch_size=32, class_mode='categorical')\n",
    "test_generator = test_datagen.flow_from_directory(test_folder, target_size=(150, 150), batch_size=32, class_mode='categorical')\n",
    "validation_generator = val_datagen.flow_from_directory(validation_folder, target_size=(150, 150), batch_size=32, class_mode='categorical')"
   ]
  },
  {
   "cell_type": "code",
   "execution_count": 26,
   "id": "89dd5a58",
   "metadata": {},
   "outputs": [
    {
     "name": "stdout",
     "output_type": "stream",
     "text": [
      "Epoch 1/10\n",
      "10/10 [==============================] - 24s 2s/step - loss: 4.1571 - accuracy: 0.0312 - val_loss: 4.1553 - val_accuracy: 0.0181\n",
      "Epoch 2/10\n",
      "10/10 [==============================] - 27s 3s/step - loss: 4.1571 - accuracy: 0.0219 - val_loss: 4.1540 - val_accuracy: 0.0200\n",
      "Epoch 3/10\n",
      "10/10 [==============================] - 23s 2s/step - loss: 4.1568 - accuracy: 0.0125 - val_loss: 4.1573 - val_accuracy: 0.0219\n",
      "Epoch 4/10\n",
      "10/10 [==============================] - 22s 2s/step - loss: 4.1537 - accuracy: 0.0156 - val_loss: 4.1580 - val_accuracy: 0.0169\n",
      "Epoch 5/10\n",
      "10/10 [==============================] - ETA: 0s - loss: 4.1559 - accuracy: 0.0250"
     ]
    }
   ],
   "source": [
    "model.fit(train_generator, steps_per_epoch=10, epochs=10, validation_data=validation_generator, validation_steps=50)"
   ]
  }
 ],
 "metadata": {
  "kernelspec": {
   "display_name": "Python 3.8.6 64-bit",
   "language": "python",
   "name": "python3"
  },
  "language_info": {
   "codemirror_mode": {
    "name": "ipython",
    "version": 3
   },
   "file_extension": ".py",
   "mimetype": "text/x-python",
   "name": "python",
   "nbconvert_exporter": "python",
   "pygments_lexer": "ipython3",
   "version": "3.8.6"
  },
  "vscode": {
   "interpreter": {
    "hash": "4958a4d708202592358e63aad7fe75dd7d369992d56d971d9aa6cd31d1b68dd5"
   }
  }
 },
 "nbformat": 4,
 "nbformat_minor": 5
}
