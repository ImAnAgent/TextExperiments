{
 "cells": [
  {
   "cell_type": "code",
   "execution_count": 51,
   "id": "7200ee98",
   "metadata": {},
   "outputs": [],
   "source": [
    "from PIL import Image\n",
    "import os\n",
    "from keras.utils import to_categorical\n",
    "from keras.models import Sequential\n",
    "from keras.layers import Conv2D, MaxPooling2D, Flatten, Dense, Dropout\n",
    "from keras.optimizers import Adam\n",
    "from keras.preprocessing.image import ImageDataGenerator\n",
    "\n",
    "# set results_folder to the folder in the same directory with the name \"results\"\n",
    "results_folder = '../smallresults/'\n",
    "train_folder = '../smallresults/train/'\n",
    "test_folder = '../smallresults/test/'\n",
    "validation_folder = '../smallresults/val/'"
   ]
  },
  {
   "cell_type": "code",
   "execution_count": 52,
   "id": "48d9ab30",
   "metadata": {},
   "outputs": [],
   "source": [
    "# Create a model\n",
    "model = Sequential(name='verydeeplearning')\n",
    "# Add a convolutional layer with 32 filters, each of size 3x3\n",
    "model.add(Conv2D(32, (3, 3), activation='relu', input_shape=(200, 200, 3)))\n",
    "\n",
    "# Add convolutional layers \n",
    "model.add(Conv2D(64, (5, 5), activation='relu'))\n",
    "model.add(Conv2D(128, (3, 3), activation='relu'))\n",
    "model.add(Conv2D(64, (3, 3), activation='relu'))\n",
    "model.add(Conv2D(32, (3, 3), activation='relu'))\n",
    "\n",
    "# Output\n",
    "model.add(Flatten())\n",
    "model.add(Dense(2, activation='softmax'))"
   ]
  },
  {
   "cell_type": "code",
   "execution_count": 53,
   "id": "d01d1222",
   "metadata": {},
   "outputs": [],
   "source": [
    "# Compile the model\n",
    "model.compile(Adam(learning_rate=0.005), loss='categorical_crossentropy', metrics=['accuracy'])"
   ]
  },
  {
   "cell_type": "code",
   "execution_count": 55,
   "id": "e6c7e6ae",
   "metadata": {},
   "outputs": [
    {
     "name": "stdout",
     "output_type": "stream",
     "text": [
      "Found 858 images belonging to 2 classes.\n",
      "Found 186 images belonging to 2 classes.\n",
      "Found 184 images belonging to 2 classes.\n"
     ]
    }
   ],
   "source": [
    "# Create a generator that will take the data and create batches of grayscale images\n",
    "train_datagen = ImageDataGenerator(rescale=1./255)\n",
    "test_datagen = ImageDataGenerator(rescale=1./255)\n",
    "val_datagen = ImageDataGenerator(rescale=1./255)\n",
    "\n",
    "train_generator = train_datagen.flow_from_directory(train_folder, target_size=(200, 200), batch_size=22, class_mode='categorical')\n",
    "test_generator = test_datagen.flow_from_directory(test_folder, target_size=(200, 200), batch_size=186, class_mode='categorical')\n",
    "validation_generator = val_datagen.flow_from_directory(validation_folder, target_size=(200, 200), batch_size=184, class_mode='categorical')"
   ]
  },
  {
   "cell_type": "code",
   "execution_count": 56,
   "id": "c4b94094",
   "metadata": {},
   "outputs": [
    {
     "name": "stdout",
     "output_type": "stream",
     "text": [
      "Epoch 1/10\n",
      "39/39 [==============================] - 284s 7s/step - loss: 53.8817 - accuracy: 0.4790 - val_loss: 0.6932 - val_accuracy: 0.5000\n",
      "Epoch 2/10\n",
      "39/39 [==============================] - 290s 7s/step - loss: 0.6932 - accuracy: 0.5000 - val_loss: 0.6932 - val_accuracy: 0.5000\n",
      "Epoch 3/10\n",
      "39/39 [==============================] - 289s 7s/step - loss: 0.6932 - accuracy: 0.5000 - val_loss: 0.6932 - val_accuracy: 0.5000\n",
      "Epoch 4/10\n",
      "39/39 [==============================] - 290s 7s/step - loss: 0.6932 - accuracy: 0.5000 - val_loss: 0.6932 - val_accuracy: 0.5000\n",
      "Epoch 5/10\n",
      " 8/39 [=====>........................] - ETA: 3:35 - loss: 0.6937 - accuracy: 0.4205"
     ]
    }
   ],
   "source": [
    "# Train the model\n",
    "model.fit(train_generator, steps_per_epoch=39, epochs=10, validation_data=validation_generator, validation_steps=1)"
   ]
  }
 ],
 "metadata": {
  "kernelspec": {
   "display_name": "Python 3.8.6 64-bit",
   "language": "python",
   "name": "python3"
  },
  "language_info": {
   "codemirror_mode": {
    "name": "ipython",
    "version": 3
   },
   "file_extension": ".py",
   "mimetype": "text/x-python",
   "name": "python",
   "nbconvert_exporter": "python",
   "pygments_lexer": "ipython3",
   "version": "3.8.6"
  },
  "vscode": {
   "interpreter": {
    "hash": "4958a4d708202592358e63aad7fe75dd7d369992d56d971d9aa6cd31d1b68dd5"
   }
  }
 },
 "nbformat": 4,
 "nbformat_minor": 5
}
