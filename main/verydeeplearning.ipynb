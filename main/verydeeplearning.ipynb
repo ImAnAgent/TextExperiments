{
 "cells": [
  {
   "cell_type": "code",
   "execution_count": 2,
   "id": "7200ee98",
   "metadata": {},
   "outputs": [],
   "source": [
    "from PIL import Image\n",
    "import os\n",
    "from keras.utils import to_categorical\n",
    "from keras.models import Sequential\n",
    "from keras.layers import Conv2D, MaxPooling2D, Flatten, Dense, Dropout\n",
    "from keras.optimizers import Adam\n",
    "from keras.preprocessing.image import ImageDataGenerator"
   ]
  },
  {
   "cell_type": "code",
   "execution_count": 3,
   "id": "e7710b47",
   "metadata": {},
   "outputs": [],
   "source": [
    "# set results_folder to the folder in the same directory with the name \"results\"\n",
    "results_folder = '../results/'\n",
    "# Loop through every folder in results_folder. For each image inside the folder, add a label to the list of labels.\n",
    "labels = []\n",
    "for folder in os.listdir(results_folder):\n",
    "    for image in os.listdir(results_folder + folder):\n",
    "        labels.append(folder)\n",
    "# Create a list of all the images in the results_folder\n",
    "images = [os.path.join(results_folder, folder, image) for folder in os.listdir(results_folder) for image in os.listdir(results_folder + folder)]"
   ]
  },
  {
   "cell_type": "code",
   "execution_count": 4,
   "id": "0b82015f",
   "metadata": {},
   "outputs": [],
   "source": [
    "matrix = {}\n",
    "# Use one hot encoding to create a matrix with the labels as the rows and the images as the columns.\n",
    "for i in range(len(labels)):\n",
    "    matrix[images[i]] = to_categorical(labels.index(labels[i]), num_classes=len(labels))"
   ]
  },
  {
   "cell_type": "code",
   "execution_count": null,
   "id": "48d9ab30",
   "metadata": {},
   "outputs": [],
   "source": [
    "# Create the model\n",
    "model = Sequential()\n",
    "model.add(Conv2D(32, (3, 3), input_shape=(32, 32, 3), activation='relu'))\n",
    "# Flatten\n",
    "model.add(Flatten())\n",
    "# Dense\n",
    "model.add(Dense(128, activation='relu'))"
   ]
  },
  {
   "cell_type": "code",
   "execution_count": null,
   "id": "e6c7e6ae",
   "metadata": {},
   "outputs": [
    {
     "ename": "NameError",
     "evalue": "name 'Sequential' is not defined",
     "output_type": "error",
     "traceback": [
      "\u001b[1;31m---------------------------------------------------------------------------\u001b[0m",
      "\u001b[1;31mNameError\u001b[0m                                 Traceback (most recent call last)",
      "\u001b[1;32mc:\\Users\\gurba\\OneDrive\\Documents\\AzeriAlphabetOCR\\main\\verydeeplearning.ipynb Cell 4\u001b[0m in \u001b[0;36m<cell line: 2>\u001b[1;34m()\u001b[0m\n\u001b[0;32m      <a href='vscode-notebook-cell:/c%3A/Users/gurba/OneDrive/Documents/AzeriAlphabetOCR/main/verydeeplearning.ipynb#W3sZmlsZQ%3D%3D?line=0'>1</a>\u001b[0m \u001b[39m# Create a keras model\u001b[39;00m\n\u001b[1;32m----> <a href='vscode-notebook-cell:/c%3A/Users/gurba/OneDrive/Documents/AzeriAlphabetOCR/main/verydeeplearning.ipynb#W3sZmlsZQ%3D%3D?line=1'>2</a>\u001b[0m model \u001b[39m=\u001b[39m Sequential()\n\u001b[0;32m      <a href='vscode-notebook-cell:/c%3A/Users/gurba/OneDrive/Documents/AzeriAlphabetOCR/main/verydeeplearning.ipynb#W3sZmlsZQ%3D%3D?line=2'>3</a>\u001b[0m \u001b[39m# Add a convolutional layer with 32 filters, each of size 3x3\u001b[39;00m\n\u001b[0;32m      <a href='vscode-notebook-cell:/c%3A/Users/gurba/OneDrive/Documents/AzeriAlphabetOCR/main/verydeeplearning.ipynb#W3sZmlsZQ%3D%3D?line=3'>4</a>\u001b[0m model\u001b[39m.\u001b[39madd(Conv2D(\u001b[39m32\u001b[39m, (\u001b[39m3\u001b[39m, \u001b[39m3\u001b[39m), activation\u001b[39m=\u001b[39m\u001b[39m'\u001b[39m\u001b[39mrelu\u001b[39m\u001b[39m'\u001b[39m, input_shape\u001b[39m=\u001b[39m(\u001b[39m150\u001b[39m, \u001b[39m150\u001b[39m, \u001b[39m3\u001b[39m)))\n",
      "\u001b[1;31mNameError\u001b[0m: name 'Sequential' is not defined"
     ]
    }
   ],
   "source": [
    "model.compile(loss='categorical_crossentropy', optimizer=Adam(), metrics=['accuracy'])\n",
    "# Create a generator that will take the data and create batches of size 32\n",
    "train_datagen = ImageDataGenerator(shear_range=0.2, zoom_range=0.2, horizontal_flip=True)\n",
    "test_datagen = ImageDataGenerator()\n",
    "train_generator = train_datagen.flow_from_directory(results_folder, target_size=(200, 200), batch_size=42, class_mode='categorical')\n",
    "test_generator = test_datagen.flow_from_directory(results_folder, target_size=(200, 200), batch_size=42, class_mode='categorical')"
   ]
  },
  {
   "cell_type": "code",
   "execution_count": null,
   "id": "0d682ebe",
   "metadata": {},
   "outputs": [],
   "source": []
  }
 ],
 "metadata": {
  "kernelspec": {
   "display_name": "Python 3.8.6 64-bit",
   "language": "python",
   "name": "python3"
  },
  "language_info": {
   "codemirror_mode": {
    "name": "ipython",
    "version": 3
   },
   "file_extension": ".py",
   "mimetype": "text/x-python",
   "name": "python",
   "nbconvert_exporter": "python",
   "pygments_lexer": "ipython3",
   "version": "3.8.6"
  },
  "vscode": {
   "interpreter": {
    "hash": "4958a4d708202592358e63aad7fe75dd7d369992d56d971d9aa6cd31d1b68dd5"
   }
  }
 },
 "nbformat": 4,
 "nbformat_minor": 5
}
