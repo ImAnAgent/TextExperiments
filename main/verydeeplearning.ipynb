{
 "cells": [
  {
   "cell_type": "code",
   "execution_count": 17,
   "id": "7200ee98",
   "metadata": {},
   "outputs": [],
   "source": [
    "from PIL import Image\n",
    "import os\n",
    "from keras.utils import to_categorical\n",
    "from keras.models import Sequential\n",
    "from keras.layers import Conv2D, MaxPooling2D, Flatten, Dense, Dropout\n",
    "from keras.optimizers import Adam\n",
    "from keras.preprocessing.image import ImageDataGenerator\n",
    "\n",
    "# set results_folder to the folder in the same directory with the name \"results\"\n",
    "results_folder = '../results/'"
   ]
  },
  {
   "cell_type": "code",
   "execution_count": 9,
   "id": "e7710b47",
   "metadata": {},
   "outputs": [],
   "source": [
    "# Loop through every folder in results_folder. For each image inside the folder, add a label to the list of labels.\n",
    "labels = []\n",
    "for folder in os.listdir(results_folder):\n",
    "    for image in os.listdir(results_folder + folder):\n",
    "        labels.append(folder)\n",
    "# Create a list of all the images in the results_folder\n",
    "images = [os.path.join(results_folder, folder, image) for folder in os.listdir(results_folder) for image in os.listdir(results_folder + folder)]\n",
    "\n",
    "# limit labels and images to 100 items in the list\n",
    "labels = labels[:100]\n",
    "images = images[:100]"
   ]
  },
  {
   "cell_type": "code",
   "execution_count": 10,
   "id": "0b82015f",
   "metadata": {},
   "outputs": [],
   "source": [
    "# Match every image to its label for supervised learning\n",
    "labels = [labels.index(os.path.basename(os.path.dirname(image))) for image in images]\n",
    "labels = to_categorical(labels)"
   ]
  },
  {
   "cell_type": "code",
   "execution_count": 18,
   "id": "48d9ab30",
   "metadata": {},
   "outputs": [],
   "source": [
    "# Create a model\n",
    "model = Sequential()\n",
    "# Add a convolutional layer with 32 filters, each of size 3x3\n",
    "model.add(Conv2D(32, (3, 3), activation='relu', input_shape=(150, 150, 3)))\n",
    "# dense layer\n",
    "model.add(Flatten())\n",
    "model.add(Dense(128, activation='relu'))\n",
    "# output\n",
    "model.add(Dense(3, activation='softmax'))"
   ]
  },
  {
   "cell_type": "code",
   "execution_count": 19,
   "id": "e6c7e6ae",
   "metadata": {},
   "outputs": [
    {
     "name": "stdout",
     "output_type": "stream",
     "text": [
      "Found 273728 images belonging to 64 classes.\n",
      "Found 273728 images belonging to 64 classes.\n"
     ]
    }
   ],
   "source": [
    "# Compile the model\n",
    "model.compile(Adam(learning_rate=0.001), loss='categorical_crossentropy', metrics=['accuracy'])\n",
    "\n",
    "# Create a generator that will take the data and create batches of images\n",
    "train_datagen = ImageDataGenerator(rescale=1./255, rotation_range=40, width_shift_range=0.2, height_shift_range=0.2, shear_range=0.2, zoom_range=0.2)\n",
    "test_datagen = ImageDataGenerator(rescale=1./255)\n",
    "\n",
    "train_generator = train_datagen.flow_from_directory(results_folder, target_size=(150, 150), batch_size=32, class_mode='categorical')\n",
    "test_generator = test_datagen.flow_from_directory(results_folder, target_size=(150, 150), batch_size=32, class_mode='categorical')"
   ]
  },
  {
   "cell_type": "code",
   "execution_count": null,
   "id": "a77601a7",
   "metadata": {},
   "outputs": [],
   "source": [
    "model.fit(train_generator, steps_per_epoch=100, epochs=5, validation_data=test_generator, validation_steps=50)"
   ]
  }
 ],
 "metadata": {
  "kernelspec": {
   "display_name": "Python 3.8.6 64-bit",
   "language": "python",
   "name": "python3"
  },
  "language_info": {
   "codemirror_mode": {
    "name": "ipython",
    "version": 3
   },
   "file_extension": ".py",
   "mimetype": "text/x-python",
   "name": "python",
   "nbconvert_exporter": "python",
   "pygments_lexer": "ipython3",
   "version": "3.8.6"
  },
  "vscode": {
   "interpreter": {
    "hash": "4958a4d708202592358e63aad7fe75dd7d369992d56d971d9aa6cd31d1b68dd5"
   }
  }
 },
 "nbformat": 4,
 "nbformat_minor": 5
}
