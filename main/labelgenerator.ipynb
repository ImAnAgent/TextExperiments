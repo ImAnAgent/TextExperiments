{
 "cells": [
  {
   "cell_type": "code",
   "execution_count": 5,
   "metadata": {},
   "outputs": [],
   "source": [
    "from PIL import Image\n",
    "import os\n",
    "from keras.utils import to_categorical"
   ]
  },
  {
   "cell_type": "code",
   "execution_count": 2,
   "id": "e7710b47",
   "metadata": {},
   "outputs": [],
   "source": [
    "results_folder = 'results/'\n",
    "# take the first letter of each image's name in the results_folder\n",
    "labels = [os.path.basename(x)[0] for x in os.listdir(results_folder)]\n",
    "# create a list called data with every image inside of results_folder\n",
    "data = [Image.open(results_folder + x) for x in os.listdir(results_folder)]"
   ]
  },
  {
   "cell_type": "code",
   "execution_count": 6,
   "id": "0b82015f",
   "metadata": {},
   "outputs": [],
   "source": [
    "matrix = {}\n",
    "# Use one hot encoding to create a matrix with the labels\n",
    "for i in range(len(labels)):\n",
    "    matrix[labels[i]] = to_categorical(i, num_classes=len(labels))"
   ]
  },
  {
   "cell_type": "code",
   "execution_count": 7,
   "id": "e6c7e6ae",
   "metadata": {},
   "outputs": [
    {
     "data": {
      "text/plain": [
       "{}"
      ]
     },
     "execution_count": 7,
     "metadata": {},
     "output_type": "execute_result"
    }
   ],
   "source": [
    "matrix"
   ]
  }
 ],
 "metadata": {
  "kernelspec": {
   "display_name": "Python 3.9.12 64-bit",
   "language": "python",
   "name": "python3"
  },
  "language_info": {
   "codemirror_mode": {
    "name": "ipython",
    "version": 3
   },
   "file_extension": ".py",
   "mimetype": "text/x-python",
   "name": "python",
   "nbconvert_exporter": "python",
   "pygments_lexer": "ipython3",
   "version": "3.9.12"
  },
  "vscode": {
   "interpreter": {
    "hash": "2287b8711f329a50194f6e25fef6df179dfefd2f09e90bf4dffd4570c6ace629"
   }
  }
 },
 "nbformat": 4,
 "nbformat_minor": 5
}
